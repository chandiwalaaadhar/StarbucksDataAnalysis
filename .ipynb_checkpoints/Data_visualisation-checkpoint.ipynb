{
 "cells": [
  {
   "cell_type": "code",
   "execution_count": 618,
   "metadata": {},
   "outputs": [],
   "source": [
    "#importing Packages\n",
    "import pandas as pd\n",
    "import numpy as np\n",
    "import math\n",
    "import datetime\n",
    "import seaborn as sns\n",
    "import json\n",
    "import matplotlib.pyplot as plt\n",
    "from sklearn.model_selection import train_test_split, GridSearchCV\n",
    "from sklearn.preprocessing import StandardScaler\n",
    "from sklearn.ensemble import RandomForestClassifier\n",
    "from sklearn.metrics import confusion_matrix, accuracy_score, classification_report\n",
    "%matplotlib inline\n",
    "\n"
   ]
  },
  {
   "cell_type": "code",
   "execution_count": 619,
   "metadata": {},
   "outputs": [],
   "source": [
    "#importing clean datasets\n",
    "normal_transactions=pd.read_csv('clean_data/normal_transaction.csv')\n",
    "offer_success=pd.read_csv('clean_data/offer_success.csv')\n",
    "waste_offer_transaction=pd.read_csv('clean_data/waste_offer_transaction.csv')\n",
    "waste_offer=pd.read_csv('clean_data/waste_offer.csv')\n",
    "profile_amount=pd.read_csv('clean_data/profile_amount.csv')\n",
    "transaction_df=pd.read_csv('clean_data/transaction_df.csv')"
   ]
  },
  {
   "cell_type": "code",
   "execution_count": 620,
   "metadata": {},
   "outputs": [],
   "source": [
    "normal_transactions=normal_transactions.drop(columns=['Unnamed: 0'])\n",
    "offer_success=offer_success.drop(columns=['Unnamed: 0'])\n",
    "waste_offer=waste_offer.drop(columns=['Unnamed: 0'])\n",
    "waste_offer_transaction=waste_offer_transaction.drop(columns=['Unnamed: 0'])\n",
    "profile_amount=profile_amount.drop(columns=['Unnamed: 0'])\n",
    "transaction_df=transaction_df.drop(columns=['Unnamed: 0'])"
   ]
  },
  {
   "cell_type": "markdown",
   "metadata": {},
   "source": [
    "## Let's Start with Relevant Business Question to Answer with help of this project\n",
    "* Most successful kinds of offers in BOGO, Discount and Informational, since multiple types of each offer were tried(Generated Maxiumum Revenue)\n",
    "* Which Offer has the best Conversion Ratio ( Ratio of Redeemed by Sent)\n",
    "* Customers who are not at all affected by offers and should be stop sending offers\n",
    "* Which month has the most New Customer registrations in a year?\n",
    "* Who are the Most Accurate Starbucks Customer by (AGE and GENDER)"
   ]
  },
  {
   "cell_type": "code",
   "execution_count": 621,
   "metadata": {},
   "outputs": [],
   "source": [
    "offer_details=offer_success.groupby(['offer_id','offer_type'])['amount'].sum()\n",
    "offer_details=offer_details.reset_index(name='amount')"
   ]
  },
  {
   "cell_type": "code",
   "execution_count": 622,
   "metadata": {},
   "outputs": [
    {
     "data": {
      "text/html": [
       "<div>\n",
       "<style scoped>\n",
       "    .dataframe tbody tr th:only-of-type {\n",
       "        vertical-align: middle;\n",
       "    }\n",
       "\n",
       "    .dataframe tbody tr th {\n",
       "        vertical-align: top;\n",
       "    }\n",
       "\n",
       "    .dataframe thead th {\n",
       "        text-align: right;\n",
       "    }\n",
       "</style>\n",
       "<table border=\"1\" class=\"dataframe\">\n",
       "  <thead>\n",
       "    <tr style=\"text-align: right;\">\n",
       "      <th></th>\n",
       "      <th>offer_id</th>\n",
       "      <th>offer_type</th>\n",
       "      <th>amount</th>\n",
       "    </tr>\n",
       "  </thead>\n",
       "  <tbody>\n",
       "    <tr>\n",
       "      <th>0</th>\n",
       "      <td>0b1e1539f2cc45b7b9fa7c272da2e1d7</td>\n",
       "      <td>discount</td>\n",
       "      <td>35044.53</td>\n",
       "    </tr>\n",
       "    <tr>\n",
       "      <th>1</th>\n",
       "      <td>2298d6c36e964ae4a3e7e9706d1fb8c2</td>\n",
       "      <td>discount</td>\n",
       "      <td>73565.84</td>\n",
       "    </tr>\n",
       "    <tr>\n",
       "      <th>2</th>\n",
       "      <td>2906b810c7d4411798c6938adc9daaa5</td>\n",
       "      <td>discount</td>\n",
       "      <td>48640.79</td>\n",
       "    </tr>\n",
       "    <tr>\n",
       "      <th>3</th>\n",
       "      <td>3f207df678b143eea3cee63160fa8bed</td>\n",
       "      <td>informational</td>\n",
       "      <td>30843.90</td>\n",
       "    </tr>\n",
       "    <tr>\n",
       "      <th>4</th>\n",
       "      <td>4d5c57ea9a6940dd891ad53e9dbe8da0</td>\n",
       "      <td>bogo</td>\n",
       "      <td>68318.55</td>\n",
       "    </tr>\n",
       "    <tr>\n",
       "      <th>5</th>\n",
       "      <td>5a8bc65990b245e5a138643cd4eb9837</td>\n",
       "      <td>informational</td>\n",
       "      <td>42512.31</td>\n",
       "    </tr>\n",
       "    <tr>\n",
       "      <th>6</th>\n",
       "      <td>9b98b8c7a33c4b65b9aebfe6a799e6d9</td>\n",
       "      <td>bogo</td>\n",
       "      <td>43806.18</td>\n",
       "    </tr>\n",
       "    <tr>\n",
       "      <th>7</th>\n",
       "      <td>ae264e3637204a6fb9bb56bc8210ddfd</td>\n",
       "      <td>bogo</td>\n",
       "      <td>67900.38</td>\n",
       "    </tr>\n",
       "    <tr>\n",
       "      <th>8</th>\n",
       "      <td>f19421c1d4aa40978ebb69ca19b0e20d</td>\n",
       "      <td>bogo</td>\n",
       "      <td>69830.07</td>\n",
       "    </tr>\n",
       "    <tr>\n",
       "      <th>9</th>\n",
       "      <td>fafdcd668e3743c1bb461111dcafc2a4</td>\n",
       "      <td>discount</td>\n",
       "      <td>76182.11</td>\n",
       "    </tr>\n",
       "  </tbody>\n",
       "</table>\n",
       "</div>"
      ],
      "text/plain": [
       "                           offer_id     offer_type    amount\n",
       "0  0b1e1539f2cc45b7b9fa7c272da2e1d7       discount  35044.53\n",
       "1  2298d6c36e964ae4a3e7e9706d1fb8c2       discount  73565.84\n",
       "2  2906b810c7d4411798c6938adc9daaa5       discount  48640.79\n",
       "3  3f207df678b143eea3cee63160fa8bed  informational  30843.90\n",
       "4  4d5c57ea9a6940dd891ad53e9dbe8da0           bogo  68318.55\n",
       "5  5a8bc65990b245e5a138643cd4eb9837  informational  42512.31\n",
       "6  9b98b8c7a33c4b65b9aebfe6a799e6d9           bogo  43806.18\n",
       "7  ae264e3637204a6fb9bb56bc8210ddfd           bogo  67900.38\n",
       "8  f19421c1d4aa40978ebb69ca19b0e20d           bogo  69830.07\n",
       "9  fafdcd668e3743c1bb461111dcafc2a4       discount  76182.11"
      ]
     },
     "execution_count": 622,
     "metadata": {},
     "output_type": "execute_result"
    }
   ],
   "source": [
    "offer_details.head(10)"
   ]
  },
  {
   "cell_type": "code",
   "execution_count": 623,
   "metadata": {},
   "outputs": [
    {
     "data": {
      "image/png": "[encoded data removed]",
      "text/plain": [
       "<Figure size 596.375x360 with 1 Axes>"
      ]
     },
     "metadata": {
      "needs_background": "light"
     },
     "output_type": "display_data"
    }
   ],
   "source": [
    "g=sns.FacetGrid(data=offer_details, hue='offer_id',height=5, palette='colorblind')\n",
    "g.map(plt.scatter,'offer_type', 'amount')\n",
    "g.add_legend();"
   ]
  },
  {
   "cell_type": "markdown",
   "metadata": {},
   "source": [
    "### ** RESULT ** Most Succesful Offer Id's in Each Offer type:\n",
    "* **Discount**: fafdcd668e3743c1bb461111dcafc2a4\n",
    "* **Bogo**: f19421c1d4aa40978ebb69ca19b0e20d\n",
    "* **Informational**: 5a8bc65990b245e5a138643cd4eb9837"
   ]
  },
  {
   "cell_type": "code",
   "execution_count": 624,
   "metadata": {},
   "outputs": [
    {
     "data": {
      "text/plain": [
       "offer_type\n",
       "bogo             11827\n",
       "discount         10340\n",
       "informational     6420\n",
       "Name: offer_completed, dtype: int64"
      ]
     },
     "execution_count": 624,
     "metadata": {},
     "output_type": "execute_result"
    }
   ],
   "source": [
    "offer_success.groupby('offer_type')['offer_completed'].count()\n",
    "#offer_success.head()"
   ]
  },
  {
   "cell_type": "code",
   "execution_count": 625,
   "metadata": {},
   "outputs": [
    {
     "data": {
      "image/png": "[encoded data removed]",
      "text/plain": [
       "<Figure size 720x360 with 1 Axes>"
      ]
     },
     "metadata": {
      "needs_background": "light"
     },
     "output_type": "display_data"
    }
   ],
   "source": [
    "plt.figure(figsize=(10,5))\n",
    "bins= 10 ** np.arange(-1.3,3.2+0.3,0.3)\n",
    "#ticks=[ 1, 100, 300]\n",
    "#labels={'{}'.format(v) for v in ticks}\n",
    "plt.hist(data=profile_amount, x='amount', bins=bins);\n",
    "plt.xscale('log')\n",
    "#plt.xticks(ticks,labels)\n",
    "plt.xlabel('Per Person Total Spending');"
   ]
  },
  {
   "cell_type": "markdown",
   "metadata": {},
   "source": [
    "### ** Result ** The Median Amount Spent by People on Starbucks is USD 72.41 but the majority of people have spend around USD 100 -250 since being a member"
   ]
  },
  {
   "cell_type": "code",
   "execution_count": 626,
   "metadata": {},
   "outputs": [],
   "source": [
    "profile_amount['age_range']=pd.cut((profile_amount.dropna(subset=['age'])['age']).astype('int'),bins=10, precision=0)"
   ]
  },
  {
   "cell_type": "code",
   "execution_count": 627,
   "metadata": {
    "scrolled": true
   },
   "outputs": [
    {
     "data": {
      "text/html": [
       "<div>\n",
       "<style scoped>\n",
       "    .dataframe tbody tr th:only-of-type {\n",
       "        vertical-align: middle;\n",
       "    }\n",
       "\n",
       "    .dataframe tbody tr th {\n",
       "        vertical-align: top;\n",
       "    }\n",
       "\n",
       "    .dataframe thead th {\n",
       "        text-align: right;\n",
       "    }\n",
       "</style>\n",
       "<table border=\"1\" class=\"dataframe\">\n",
       "  <thead>\n",
       "    <tr style=\"text-align: right;\">\n",
       "      <th></th>\n",
       "      <th>gender</th>\n",
       "      <th>age</th>\n",
       "      <th>person</th>\n",
       "      <th>became_member_on</th>\n",
       "      <th>income</th>\n",
       "      <th>amount</th>\n",
       "      <th>age_range</th>\n",
       "    </tr>\n",
       "  </thead>\n",
       "  <tbody>\n",
       "    <tr>\n",
       "      <th>0</th>\n",
       "      <td>NaN</td>\n",
       "      <td>NaN</td>\n",
       "      <td>68be06ca386d4c31939f3a4f0e3dd783</td>\n",
       "      <td>2017-02-12</td>\n",
       "      <td>NaN</td>\n",
       "      <td>20.40</td>\n",
       "      <td>NaN</td>\n",
       "    </tr>\n",
       "    <tr>\n",
       "      <th>1</th>\n",
       "      <td>F</td>\n",
       "      <td>55.0</td>\n",
       "      <td>0610b486422d4921ae7d2bf64640c50b</td>\n",
       "      <td>2017-07-15</td>\n",
       "      <td>112000.0</td>\n",
       "      <td>77.01</td>\n",
       "      <td>(51.0, 60.0]</td>\n",
       "    </tr>\n",
       "    <tr>\n",
       "      <th>2</th>\n",
       "      <td>NaN</td>\n",
       "      <td>NaN</td>\n",
       "      <td>38fe809add3b4fcf9315a9694bb96ff5</td>\n",
       "      <td>2018-07-12</td>\n",
       "      <td>NaN</td>\n",
       "      <td>14.30</td>\n",
       "      <td>NaN</td>\n",
       "    </tr>\n",
       "    <tr>\n",
       "      <th>3</th>\n",
       "      <td>F</td>\n",
       "      <td>75.0</td>\n",
       "      <td>78afa995795e4d85b5d9ceeca43f5fef</td>\n",
       "      <td>2017-05-09</td>\n",
       "      <td>100000.0</td>\n",
       "      <td>159.27</td>\n",
       "      <td>(68.0, 76.0]</td>\n",
       "    </tr>\n",
       "    <tr>\n",
       "      <th>4</th>\n",
       "      <td>NaN</td>\n",
       "      <td>NaN</td>\n",
       "      <td>a03223e636434f42ac4c3df47e8bac43</td>\n",
       "      <td>2017-08-04</td>\n",
       "      <td>NaN</td>\n",
       "      <td>4.65</td>\n",
       "      <td>NaN</td>\n",
       "    </tr>\n",
       "  </tbody>\n",
       "</table>\n",
       "</div>"
      ],
      "text/plain": [
       "  gender   age                            person became_member_on    income  \\\n",
       "0    NaN   NaN  68be06ca386d4c31939f3a4f0e3dd783       2017-02-12       NaN   \n",
       "1      F  55.0  0610b486422d4921ae7d2bf64640c50b       2017-07-15  112000.0   \n",
       "2    NaN   NaN  38fe809add3b4fcf9315a9694bb96ff5       2018-07-12       NaN   \n",
       "3      F  75.0  78afa995795e4d85b5d9ceeca43f5fef       2017-05-09  100000.0   \n",
       "4    NaN   NaN  a03223e636434f42ac4c3df47e8bac43       2017-08-04       NaN   \n",
       "\n",
       "   amount     age_range  \n",
       "0   20.40           NaN  \n",
       "1   77.01  (51.0, 60.0]  \n",
       "2   14.30           NaN  \n",
       "3  159.27  (68.0, 76.0]  \n",
       "4    4.65           NaN  "
      ]
     },
     "execution_count": 627,
     "metadata": {},
     "output_type": "execute_result"
    }
   ],
   "source": [
    "profile_amount.head()"
   ]
  },
  {
   "cell_type": "code",
   "execution_count": 628,
   "metadata": {},
   "outputs": [],
   "source": [
    "best_customers= profile_amount.groupby(['age_range','gender'])['amount'].sum()\n",
    "best_customers=best_customers.reset_index(name='amount')"
   ]
  },
  {
   "cell_type": "code",
   "execution_count": 629,
   "metadata": {},
   "outputs": [
    {
     "data": {
      "image/png": "[encoded data removed]",
      "text/plain": [
       "<Figure size 720x360 with 1 Axes>"
      ]
     },
     "metadata": {
      "needs_background": "light"
     },
     "output_type": "display_data"
    }
   ],
   "source": [
    "plt.figure(figsize=[10,5])\n",
    "sns.barplot(x='age_range',y='amount', data=best_customers, hue='gender', palette='colorblind', ci=0)\n",
    "plt.xticks(rotation=90);"
   ]
  },
  {
   "cell_type": "markdown",
   "metadata": {},
   "source": [
    "### ** RESULT ** This Visualisation Clearly Shows that\n",
    "* 'FEMALE' of 51-60 years of age are the most spending customers of starbucks.\n",
    "* 51-60 years of age are the most spending Male customers of starbucks."
   ]
  },
  {
   "cell_type": "code",
   "execution_count": 775,
   "metadata": {},
   "outputs": [],
   "source": [
    "profile=profile_amount.drop(columns=['amount'])\n",
    "offer_success=pd.merge(offer_success,profile, on=['person'], how='left')"
   ]
  },
  {
   "cell_type": "code",
   "execution_count": 776,
   "metadata": {},
   "outputs": [],
   "source": [
    "offer_success['type']='success'"
   ]
  },
  {
   "cell_type": "code",
   "execution_count": 783,
   "metadata": {},
   "outputs": [],
   "source": [
    "waste_offer['type']='fail'"
   ]
  },
  {
   "cell_type": "code",
   "execution_count": 784,
   "metadata": {},
   "outputs": [],
   "source": [
    "all_offers_df= offer_success.append(waste_offer)"
   ]
  },
  {
   "cell_type": "code",
   "execution_count": 785,
   "metadata": {},
   "outputs": [],
   "source": [
    "a=all_offers_df.groupby('person')['type'].count()\n",
    "a=a.reset_index(name='total')"
   ]
  },
  {
   "cell_type": "code",
   "execution_count": 786,
   "metadata": {},
   "outputs": [],
   "source": [
    "b = all_offers_df[all_offers_df['type']=='fail'].groupby('person')['type'].count()\n",
    "b=b.reset_index(name='failed')"
   ]
  },
  {
   "cell_type": "code",
   "execution_count": 787,
   "metadata": {},
   "outputs": [],
   "source": [
    "a= a.merge(b, on=['person'], how='left').fillna(0)"
   ]
  },
  {
   "cell_type": "code",
   "execution_count": 788,
   "metadata": {},
   "outputs": [],
   "source": [
    "## Creating a Offer failure percentage column\n",
    "a['fail_percentage']=(a['failed']/a['total'])*100"
   ]
  },
  {
   "cell_type": "code",
   "execution_count": 792,
   "metadata": {},
   "outputs": [
    {
     "data": {
      "text/html": [
       "<div>\n",
       "<style scoped>\n",
       "    .dataframe tbody tr th:only-of-type {\n",
       "        vertical-align: middle;\n",
       "    }\n",
       "\n",
       "    .dataframe tbody tr th {\n",
       "        vertical-align: top;\n",
       "    }\n",
       "\n",
       "    .dataframe thead th {\n",
       "        text-align: right;\n",
       "    }\n",
       "</style>\n",
       "<table border=\"1\" class=\"dataframe\">\n",
       "  <thead>\n",
       "    <tr style=\"text-align: right;\">\n",
       "      <th></th>\n",
       "      <th>person</th>\n",
       "      <th>total</th>\n",
       "      <th>failed</th>\n",
       "      <th>fail_percentage</th>\n",
       "    </tr>\n",
       "  </thead>\n",
       "  <tbody>\n",
       "    <tr>\n",
       "      <th>0</th>\n",
       "      <td>0009655768c64bdeb2e877511632db8f</td>\n",
       "      <td>4</td>\n",
       "      <td>1.0</td>\n",
       "      <td>25.000000</td>\n",
       "    </tr>\n",
       "    <tr>\n",
       "      <th>1</th>\n",
       "      <td>00116118485d4dfda04fdbaba9a87b5c</td>\n",
       "      <td>1</td>\n",
       "      <td>1.0</td>\n",
       "      <td>100.000000</td>\n",
       "    </tr>\n",
       "    <tr>\n",
       "      <th>2</th>\n",
       "      <td>0011e0d4e6b944f998e987f904e8c1e5</td>\n",
       "      <td>3</td>\n",
       "      <td>0.0</td>\n",
       "      <td>0.000000</td>\n",
       "    </tr>\n",
       "    <tr>\n",
       "      <th>3</th>\n",
       "      <td>0020c2b971eb4e9188eac86d93036a77</td>\n",
       "      <td>4</td>\n",
       "      <td>2.0</td>\n",
       "      <td>50.000000</td>\n",
       "    </tr>\n",
       "    <tr>\n",
       "      <th>4</th>\n",
       "      <td>0020ccbbb6d84e358d3414a3ff76cffd</td>\n",
       "      <td>4</td>\n",
       "      <td>0.0</td>\n",
       "      <td>0.000000</td>\n",
       "    </tr>\n",
       "    <tr>\n",
       "      <th>5</th>\n",
       "      <td>003d66b6608740288d6cc97a6903f4f0</td>\n",
       "      <td>4</td>\n",
       "      <td>2.0</td>\n",
       "      <td>50.000000</td>\n",
       "    </tr>\n",
       "    <tr>\n",
       "      <th>6</th>\n",
       "      <td>00426fe3ffde4c6b9cb9ad6d077a13ea</td>\n",
       "      <td>4</td>\n",
       "      <td>2.0</td>\n",
       "      <td>50.000000</td>\n",
       "    </tr>\n",
       "    <tr>\n",
       "      <th>7</th>\n",
       "      <td>004b041fbfe44859945daa2c7f79ee64</td>\n",
       "      <td>3</td>\n",
       "      <td>1.0</td>\n",
       "      <td>33.333333</td>\n",
       "    </tr>\n",
       "    <tr>\n",
       "      <th>8</th>\n",
       "      <td>004c5799adbf42868b9cff0396190900</td>\n",
       "      <td>5</td>\n",
       "      <td>3.0</td>\n",
       "      <td>60.000000</td>\n",
       "    </tr>\n",
       "    <tr>\n",
       "      <th>9</th>\n",
       "      <td>005500a7188546ff8a767329a2f7c76a</td>\n",
       "      <td>3</td>\n",
       "      <td>3.0</td>\n",
       "      <td>100.000000</td>\n",
       "    </tr>\n",
       "  </tbody>\n",
       "</table>\n",
       "</div>"
      ],
      "text/plain": [
       "                             person  total  failed  fail_percentage\n",
       "0  0009655768c64bdeb2e877511632db8f      4     1.0        25.000000\n",
       "1  00116118485d4dfda04fdbaba9a87b5c      1     1.0       100.000000\n",
       "2  0011e0d4e6b944f998e987f904e8c1e5      3     0.0         0.000000\n",
       "3  0020c2b971eb4e9188eac86d93036a77      4     2.0        50.000000\n",
       "4  0020ccbbb6d84e358d3414a3ff76cffd      4     0.0         0.000000\n",
       "5  003d66b6608740288d6cc97a6903f4f0      4     2.0        50.000000\n",
       "6  00426fe3ffde4c6b9cb9ad6d077a13ea      4     2.0        50.000000\n",
       "7  004b041fbfe44859945daa2c7f79ee64      3     1.0        33.333333\n",
       "8  004c5799adbf42868b9cff0396190900      5     3.0        60.000000\n",
       "9  005500a7188546ff8a767329a2f7c76a      3     3.0       100.000000"
      ]
     },
     "execution_count": 792,
     "metadata": {},
     "output_type": "execute_result"
    }
   ],
   "source": [
    "a.head(10)"
   ]
  },
  {
   "cell_type": "code",
   "execution_count": 789,
   "metadata": {},
   "outputs": [],
   "source": [
    "# Creating list of all the Id's of User who responded perfectly to all the offers\n",
    "all_offers_success=(a[a['fail_percentage']==0]['person']).to_list()"
   ]
  },
  {
   "cell_type": "code",
   "execution_count": 790,
   "metadata": {},
   "outputs": [],
   "source": [
    "# Creating list of all the Id's of User who didn't respond to any offer at all\n",
    "all_offers_failed=(a[a['fail_percentage']==100]['person']).to_list()"
   ]
  },
  {
   "cell_type": "markdown",
   "metadata": {},
   "source": [
    "   ### ** RESULT ** 'all_offers_success' & 'all_offer_failed' is the list of user accounts on which the company needs to take strategic decisions to continue sending the offers of stop"
   ]
  },
  {
   "cell_type": "code",
   "execution_count": 642,
   "metadata": {},
   "outputs": [],
   "source": [
    "params=['amount', 'difficulty','time_validity', 'time_view', 'reward', 'income']"
   ]
  },
  {
   "cell_type": "code",
   "execution_count": 643,
   "metadata": {},
   "outputs": [
    {
     "data": {
      "image/png": "[encoded data removed]",
      "text/plain": [
       "<Figure size 1080x1080 with 42 Axes>"
      ]
     },
     "metadata": {
      "needs_background": "light"
     },
     "output_type": "display_data"
    }
   ],
   "source": [
    "g= sns.PairGrid(data=all_offers_df, vars=params)\n",
    "g= g.map_offdiag(plt.scatter);\n",
    "g.map_diag(plt.hist);"
   ]
  },
  {
   "cell_type": "code",
   "execution_count": 644,
   "metadata": {},
   "outputs": [
    {
     "data": {
      "image/png": "[encoded data removed]",
      "text/plain": [
       "<Figure size 432x288 with 2 Axes>"
      ]
     },
     "metadata": {
      "needs_background": "light"
     },
     "output_type": "display_data"
    }
   ],
   "source": [
    "sns.heatmap(all_offers_df[params].corr(), cmap='rocket_r', annot=True, fmt='0.2f');"
   ]
  },
  {
   "cell_type": "markdown",
   "metadata": {},
   "source": [
    "## Using ML Models"
   ]
  },
  {
   "cell_type": "code",
   "execution_count": 645,
   "metadata": {},
   "outputs": [
    {
     "data": {
      "text/plain": [
       "channel_email           0\n",
       "channel_mobile          0\n",
       "channel_social          0\n",
       "channel_web             0\n",
       "difficulty              0\n",
       "duration                0\n",
       "least_pay               0\n",
       "offer_completed         0\n",
       "offer_id                0\n",
       "offer_received          0\n",
       "offer_type              0\n",
       "offer_view              0\n",
       "person                  0\n",
       "reward                  0\n",
       "time_completed      24983\n",
       "time_start              0\n",
       "time_view           14153\n",
       "total                   0\n",
       "time_validity           0\n",
       "amount              24983\n",
       "type                    0\n",
       "gender               7739\n",
       "age                  7739\n",
       "became_member_on        0\n",
       "income               7739\n",
       "age_range            7739\n",
       "dtype: int64"
      ]
     },
     "execution_count": 645,
     "metadata": {},
     "output_type": "execute_result"
    }
   ],
   "source": [
    "all_offers_df.isna().sum()"
   ]
  },
  {
   "cell_type": "code",
   "execution_count": 646,
   "metadata": {},
   "outputs": [],
   "source": [
    "all_offers_df['offer_view']=all_offers_df['offer_view'].replace(2,1)\n",
    "all_offers_df['offer_completed']=all_offers_df['offer_completed'].replace(4,1)"
   ]
  },
  {
   "cell_type": "code",
   "execution_count": 647,
   "metadata": {},
   "outputs": [],
   "source": [
    "all_offers_df['time_view']=all_offers_df['time_view'].fillna(0)"
   ]
  },
  {
   "cell_type": "code",
   "execution_count": 648,
   "metadata": {},
   "outputs": [],
   "source": [
    "test_sub=profile_amount.drop(columns=['amount'])"
   ]
  },
  {
   "cell_type": "code",
   "execution_count": 653,
   "metadata": {},
   "outputs": [],
   "source": [
    "test=all_offers_df.drop(columns=['channel_email', 'channel_mobile', 'channel_social', 'channel_web',\n",
    "                                                                                     'time_completed','time_validity'\n",
    "                                                                                     ,'total'\n",
    "                                                                                     ,'time_start','offer_received'\n",
    "                                                                                     ,'offer_completed', 'person'])"
   ]
  },
  {
   "cell_type": "code",
   "execution_count": 654,
   "metadata": {},
   "outputs": [
    {
     "data": {
      "text/html": [
       "<div>\n",
       "<style scoped>\n",
       "    .dataframe tbody tr th:only-of-type {\n",
       "        vertical-align: middle;\n",
       "    }\n",
       "\n",
       "    .dataframe tbody tr th {\n",
       "        vertical-align: top;\n",
       "    }\n",
       "\n",
       "    .dataframe thead th {\n",
       "        text-align: right;\n",
       "    }\n",
       "</style>\n",
       "<table border=\"1\" class=\"dataframe\">\n",
       "  <thead>\n",
       "    <tr style=\"text-align: right;\">\n",
       "      <th></th>\n",
       "      <th>difficulty</th>\n",
       "      <th>duration</th>\n",
       "      <th>least_pay</th>\n",
       "      <th>offer_id</th>\n",
       "      <th>offer_type</th>\n",
       "      <th>offer_view</th>\n",
       "      <th>reward</th>\n",
       "      <th>time_view</th>\n",
       "      <th>amount</th>\n",
       "      <th>type</th>\n",
       "      <th>gender</th>\n",
       "      <th>age</th>\n",
       "      <th>became_member_on</th>\n",
       "      <th>income</th>\n",
       "      <th>age_range</th>\n",
       "    </tr>\n",
       "  </thead>\n",
       "  <tbody>\n",
       "    <tr>\n",
       "      <th>0</th>\n",
       "      <td>5.0</td>\n",
       "      <td>168.0</td>\n",
       "      <td>5.0</td>\n",
       "      <td>9b98b8c7a33c4b65b9aebfe6a799e6d9</td>\n",
       "      <td>bogo</td>\n",
       "      <td>1.0</td>\n",
       "      <td>5.0</td>\n",
       "      <td>6.0</td>\n",
       "      <td>19.89</td>\n",
       "      <td>success</td>\n",
       "      <td>F</td>\n",
       "      <td>75.0</td>\n",
       "      <td>2017-05-09</td>\n",
       "      <td>100000.0</td>\n",
       "      <td>(68.0, 76.0]</td>\n",
       "    </tr>\n",
       "    <tr>\n",
       "      <th>1</th>\n",
       "      <td>5.0</td>\n",
       "      <td>120.0</td>\n",
       "      <td>5.0</td>\n",
       "      <td>f19421c1d4aa40978ebb69ca19b0e20d</td>\n",
       "      <td>bogo</td>\n",
       "      <td>1.0</td>\n",
       "      <td>5.0</td>\n",
       "      <td>0.0</td>\n",
       "      <td>9.54</td>\n",
       "      <td>success</td>\n",
       "      <td>M</td>\n",
       "      <td>65.0</td>\n",
       "      <td>2018-02-09</td>\n",
       "      <td>53000.0</td>\n",
       "      <td>(60.0, 68.0]</td>\n",
       "    </tr>\n",
       "    <tr>\n",
       "      <th>2</th>\n",
       "      <td>20.0</td>\n",
       "      <td>240.0</td>\n",
       "      <td>15.0</td>\n",
       "      <td>0b1e1539f2cc45b7b9fa7c272da2e1d7</td>\n",
       "      <td>discount</td>\n",
       "      <td>1.0</td>\n",
       "      <td>5.0</td>\n",
       "      <td>30.0</td>\n",
       "      <td>339.69</td>\n",
       "      <td>success</td>\n",
       "      <td>F</td>\n",
       "      <td>88.0</td>\n",
       "      <td>2017-05-18</td>\n",
       "      <td>53000.0</td>\n",
       "      <td>(84.0, 93.0]</td>\n",
       "    </tr>\n",
       "    <tr>\n",
       "      <th>3</th>\n",
       "      <td>10.0</td>\n",
       "      <td>240.0</td>\n",
       "      <td>8.0</td>\n",
       "      <td>fafdcd668e3743c1bb461111dcafc2a4</td>\n",
       "      <td>discount</td>\n",
       "      <td>1.0</td>\n",
       "      <td>2.0</td>\n",
       "      <td>18.0</td>\n",
       "      <td>28.29</td>\n",
       "      <td>success</td>\n",
       "      <td>M</td>\n",
       "      <td>42.0</td>\n",
       "      <td>2013-08-11</td>\n",
       "      <td>69000.0</td>\n",
       "      <td>(35.0, 43.0]</td>\n",
       "    </tr>\n",
       "    <tr>\n",
       "      <th>4</th>\n",
       "      <td>20.0</td>\n",
       "      <td>240.0</td>\n",
       "      <td>15.0</td>\n",
       "      <td>0b1e1539f2cc45b7b9fa7c272da2e1d7</td>\n",
       "      <td>discount</td>\n",
       "      <td>1.0</td>\n",
       "      <td>5.0</td>\n",
       "      <td>30.0</td>\n",
       "      <td>27.23</td>\n",
       "      <td>success</td>\n",
       "      <td>F</td>\n",
       "      <td>56.0</td>\n",
       "      <td>2018-04-28</td>\n",
       "      <td>88000.0</td>\n",
       "      <td>(51.0, 60.0]</td>\n",
       "    </tr>\n",
       "  </tbody>\n",
       "</table>\n",
       "</div>"
      ],
      "text/plain": [
       "   difficulty  duration  least_pay                          offer_id  \\\n",
       "0         5.0     168.0        5.0  9b98b8c7a33c4b65b9aebfe6a799e6d9   \n",
       "1         5.0     120.0        5.0  f19421c1d4aa40978ebb69ca19b0e20d   \n",
       "2        20.0     240.0       15.0  0b1e1539f2cc45b7b9fa7c272da2e1d7   \n",
       "3        10.0     240.0        8.0  fafdcd668e3743c1bb461111dcafc2a4   \n",
       "4        20.0     240.0       15.0  0b1e1539f2cc45b7b9fa7c272da2e1d7   \n",
       "\n",
       "  offer_type  offer_view  reward  time_view  amount     type gender   age  \\\n",
       "0       bogo         1.0     5.0        6.0   19.89  success      F  75.0   \n",
       "1       bogo         1.0     5.0        0.0    9.54  success      M  65.0   \n",
       "2   discount         1.0     5.0       30.0  339.69  success      F  88.0   \n",
       "3   discount         1.0     2.0       18.0   28.29  success      M  42.0   \n",
       "4   discount         1.0     5.0       30.0   27.23  success      F  56.0   \n",
       "\n",
       "  became_member_on    income     age_range  \n",
       "0       2017-05-09  100000.0  (68.0, 76.0]  \n",
       "1       2018-02-09   53000.0  (60.0, 68.0]  \n",
       "2       2017-05-18   53000.0  (84.0, 93.0]  \n",
       "3       2013-08-11   69000.0  (35.0, 43.0]  \n",
       "4       2018-04-28   88000.0  (51.0, 60.0]  "
      ]
     },
     "execution_count": 654,
     "metadata": {},
     "output_type": "execute_result"
    }
   ],
   "source": [
    "test.head()"
   ]
  },
  {
   "cell_type": "code",
   "execution_count": 655,
   "metadata": {},
   "outputs": [],
   "source": [
    "test.dropna(subset=['gender','age','income','amount'], inplace=True)"
   ]
  },
  {
   "cell_type": "code",
   "execution_count": 656,
   "metadata": {},
   "outputs": [],
   "source": [
    "test['amount']=test['amount'].fillna(0)\n",
    "test=test.drop(columns=['age_range','offer_type'])"
   ]
  },
  {
   "cell_type": "code",
   "execution_count": 657,
   "metadata": {},
   "outputs": [],
   "source": [
    "test['Female'] = test['gender'].apply(lambda x: 1 if 'F' in x else 0)\n",
    "test['Male'] = test['gender'].apply(lambda x: 1 if 'M' in x else 0)\n",
    "test['Others'] = test['gender'].apply(lambda x: 1 if 'O' in x else 0)"
   ]
  },
  {
   "cell_type": "code",
   "execution_count": 658,
   "metadata": {},
   "outputs": [
    {
     "data": {
      "text/html": [
       "<div>\n",
       "<style scoped>\n",
       "    .dataframe tbody tr th:only-of-type {\n",
       "        vertical-align: middle;\n",
       "    }\n",
       "\n",
       "    .dataframe tbody tr th {\n",
       "        vertical-align: top;\n",
       "    }\n",
       "\n",
       "    .dataframe thead th {\n",
       "        text-align: right;\n",
       "    }\n",
       "</style>\n",
       "<table border=\"1\" class=\"dataframe\">\n",
       "  <thead>\n",
       "    <tr style=\"text-align: right;\">\n",
       "      <th></th>\n",
       "      <th>difficulty</th>\n",
       "      <th>duration</th>\n",
       "      <th>least_pay</th>\n",
       "      <th>offer_id</th>\n",
       "      <th>offer_view</th>\n",
       "      <th>reward</th>\n",
       "      <th>time_view</th>\n",
       "      <th>amount</th>\n",
       "      <th>type</th>\n",
       "      <th>gender</th>\n",
       "      <th>age</th>\n",
       "      <th>became_member_on</th>\n",
       "      <th>income</th>\n",
       "      <th>Female</th>\n",
       "      <th>Male</th>\n",
       "      <th>Others</th>\n",
       "    </tr>\n",
       "  </thead>\n",
       "  <tbody>\n",
       "    <tr>\n",
       "      <th>0</th>\n",
       "      <td>5.0</td>\n",
       "      <td>168.0</td>\n",
       "      <td>5.0</td>\n",
       "      <td>9b98b8c7a33c4b65b9aebfe6a799e6d9</td>\n",
       "      <td>1.0</td>\n",
       "      <td>5.0</td>\n",
       "      <td>6.0</td>\n",
       "      <td>19.89</td>\n",
       "      <td>success</td>\n",
       "      <td>F</td>\n",
       "      <td>75.0</td>\n",
       "      <td>2017-05-09</td>\n",
       "      <td>100000.0</td>\n",
       "      <td>1</td>\n",
       "      <td>0</td>\n",
       "      <td>0</td>\n",
       "    </tr>\n",
       "    <tr>\n",
       "      <th>1</th>\n",
       "      <td>5.0</td>\n",
       "      <td>120.0</td>\n",
       "      <td>5.0</td>\n",
       "      <td>f19421c1d4aa40978ebb69ca19b0e20d</td>\n",
       "      <td>1.0</td>\n",
       "      <td>5.0</td>\n",
       "      <td>0.0</td>\n",
       "      <td>9.54</td>\n",
       "      <td>success</td>\n",
       "      <td>M</td>\n",
       "      <td>65.0</td>\n",
       "      <td>2018-02-09</td>\n",
       "      <td>53000.0</td>\n",
       "      <td>0</td>\n",
       "      <td>1</td>\n",
       "      <td>0</td>\n",
       "    </tr>\n",
       "    <tr>\n",
       "      <th>2</th>\n",
       "      <td>20.0</td>\n",
       "      <td>240.0</td>\n",
       "      <td>15.0</td>\n",
       "      <td>0b1e1539f2cc45b7b9fa7c272da2e1d7</td>\n",
       "      <td>1.0</td>\n",
       "      <td>5.0</td>\n",
       "      <td>30.0</td>\n",
       "      <td>339.69</td>\n",
       "      <td>success</td>\n",
       "      <td>F</td>\n",
       "      <td>88.0</td>\n",
       "      <td>2017-05-18</td>\n",
       "      <td>53000.0</td>\n",
       "      <td>1</td>\n",
       "      <td>0</td>\n",
       "      <td>0</td>\n",
       "    </tr>\n",
       "    <tr>\n",
       "      <th>3</th>\n",
       "      <td>10.0</td>\n",
       "      <td>240.0</td>\n",
       "      <td>8.0</td>\n",
       "      <td>fafdcd668e3743c1bb461111dcafc2a4</td>\n",
       "      <td>1.0</td>\n",
       "      <td>2.0</td>\n",
       "      <td>18.0</td>\n",
       "      <td>28.29</td>\n",
       "      <td>success</td>\n",
       "      <td>M</td>\n",
       "      <td>42.0</td>\n",
       "      <td>2013-08-11</td>\n",
       "      <td>69000.0</td>\n",
       "      <td>0</td>\n",
       "      <td>1</td>\n",
       "      <td>0</td>\n",
       "    </tr>\n",
       "    <tr>\n",
       "      <th>4</th>\n",
       "      <td>20.0</td>\n",
       "      <td>240.0</td>\n",
       "      <td>15.0</td>\n",
       "      <td>0b1e1539f2cc45b7b9fa7c272da2e1d7</td>\n",
       "      <td>1.0</td>\n",
       "      <td>5.0</td>\n",
       "      <td>30.0</td>\n",
       "      <td>27.23</td>\n",
       "      <td>success</td>\n",
       "      <td>F</td>\n",
       "      <td>56.0</td>\n",
       "      <td>2018-04-28</td>\n",
       "      <td>88000.0</td>\n",
       "      <td>1</td>\n",
       "      <td>0</td>\n",
       "      <td>0</td>\n",
       "    </tr>\n",
       "  </tbody>\n",
       "</table>\n",
       "</div>"
      ],
      "text/plain": [
       "   difficulty  duration  least_pay                          offer_id  \\\n",
       "0         5.0     168.0        5.0  9b98b8c7a33c4b65b9aebfe6a799e6d9   \n",
       "1         5.0     120.0        5.0  f19421c1d4aa40978ebb69ca19b0e20d   \n",
       "2        20.0     240.0       15.0  0b1e1539f2cc45b7b9fa7c272da2e1d7   \n",
       "3        10.0     240.0        8.0  fafdcd668e3743c1bb461111dcafc2a4   \n",
       "4        20.0     240.0       15.0  0b1e1539f2cc45b7b9fa7c272da2e1d7   \n",
       "\n",
       "   offer_view  reward  time_view  amount     type gender   age  \\\n",
       "0         1.0     5.0        6.0   19.89  success      F  75.0   \n",
       "1         1.0     5.0        0.0    9.54  success      M  65.0   \n",
       "2         1.0     5.0       30.0  339.69  success      F  88.0   \n",
       "3         1.0     2.0       18.0   28.29  success      M  42.0   \n",
       "4         1.0     5.0       30.0   27.23  success      F  56.0   \n",
       "\n",
       "  became_member_on    income  Female  Male  Others  \n",
       "0       2017-05-09  100000.0       1     0       0  \n",
       "1       2018-02-09   53000.0       0     1       0  \n",
       "2       2017-05-18   53000.0       1     0       0  \n",
       "3       2013-08-11   69000.0       0     1       0  \n",
       "4       2018-04-28   88000.0       1     0       0  "
      ]
     },
     "execution_count": 658,
     "metadata": {},
     "output_type": "execute_result"
    }
   ],
   "source": [
    "test.head()"
   ]
  },
  {
   "cell_type": "code",
   "execution_count": 659,
   "metadata": {},
   "outputs": [],
   "source": [
    "x= test.loc[:,['difficulty','duration','offer_id','reward','Female','offer_view','Male','Others','age','income']]\n",
    "y= test.loc[:,['type']]"
   ]
  },
  {
   "cell_type": "code",
   "execution_count": 660,
   "metadata": {},
   "outputs": [],
   "source": [
    "## Applying Encoding to Categorical Variables\n",
    "from sklearn.compose import ColumnTransformer\n",
    "from sklearn.preprocessing import OneHotEncoder\n",
    "ct = ColumnTransformer(transformers=[('encoder', OneHotEncoder(), [2])], remainder='passthrough')\n",
    "\n",
    "x = np.array(ct.fit_transform(x))\n"
   ]
  },
  {
   "cell_type": "code",
   "execution_count": 661,
   "metadata": {},
   "outputs": [
    {
     "name": "stderr",
     "output_type": "stream",
     "text": [
      "/Users/aadhar/opt/anaconda3/lib/python3.7/site-packages/sklearn/preprocessing/_label.py:251: DataConversionWarning: A column-vector y was passed when a 1d array was expected. Please change the shape of y to (n_samples, ), for example using ravel().\n",
      "  y = column_or_1d(y, warn=True)\n"
     ]
    }
   ],
   "source": [
    "## Encoding Dependent Variable\n",
    "from sklearn.preprocessing import LabelEncoder\n",
    "le = LabelEncoder()\n",
    "y = le.fit_transform(y)"
   ]
  },
  {
   "cell_type": "code",
   "execution_count": 662,
   "metadata": {},
   "outputs": [
    {
     "name": "stdout",
     "output_type": "stream",
     "text": [
      "[1 1 1 ... 0 0 0]\n"
     ]
    }
   ],
   "source": [
    "print(y)"
   ]
  },
  {
   "cell_type": "code",
   "execution_count": 663,
   "metadata": {},
   "outputs": [],
   "source": [
    "## Splitting into Training and test Set\n",
    "\n",
    "x_train, x_test, y_train, y_test = train_test_split(x, y, test_size = 0.25, random_state = 42)"
   ]
  },
  {
   "cell_type": "code",
   "execution_count": 664,
   "metadata": {},
   "outputs": [],
   "source": [
    "## Applying Feature Scaling\n",
    "\n",
    "sc = StandardScaler()\n",
    "x_train = sc.fit_transform(x_train)\n",
    "x_test = sc.transform(x_test)"
   ]
  },
  {
   "cell_type": "code",
   "execution_count": 665,
   "metadata": {},
   "outputs": [
    {
     "data": {
      "text/plain": [
       "RandomForestClassifier(bootstrap=True, ccp_alpha=0.0, class_weight=None,\n",
       "                       criterion='entropy', max_depth=None, max_features='auto',\n",
       "                       max_leaf_nodes=None, max_samples=None,\n",
       "                       min_impurity_decrease=0.0, min_impurity_split=None,\n",
       "                       min_samples_leaf=1, min_samples_split=2,\n",
       "                       min_weight_fraction_leaf=0.0, n_estimators=100,\n",
       "                       n_jobs=None, oob_score=False, random_state=0, verbose=0,\n",
       "                       warm_start=False)"
      ]
     },
     "execution_count": 665,
     "metadata": {},
     "output_type": "execute_result"
    }
   ],
   "source": [
    "# Using Random Forest Regressor Model\n",
    "classifier = RandomForestClassifier(n_estimators = 100, criterion = 'entropy', random_state = 0)\n",
    "classifier.fit(x_train, y_train)"
   ]
  },
  {
   "cell_type": "code",
   "execution_count": 666,
   "metadata": {},
   "outputs": [
    {
     "name": "stdout",
     "output_type": "stream",
     "text": [
      "[[1328 1448]\n",
      " [1088 5695]]\n"
     ]
    },
    {
     "data": {
      "text/plain": [
       "0.7347002824563239"
      ]
     },
     "execution_count": 666,
     "metadata": {},
     "output_type": "execute_result"
    }
   ],
   "source": [
    "#Predicting y of test set\n",
    "y_pred= classifier.predict(x_test)\n",
    "# Forming the Confusion Matrix and Accuracy Score of Test Set\n",
    "cm = confusion_matrix(y_test, y_pred)\n",
    "print(cm)\n",
    "accuracy_score(y_test, y_pred)"
   ]
  },
  {
   "cell_type": "code",
   "execution_count": 667,
   "metadata": {},
   "outputs": [
    {
     "name": "stdout",
     "output_type": "stream",
     "text": [
      "              precision    recall  f1-score   support\n",
      "\n",
      "     success       0.55      0.48      0.51      2776\n",
      "        fail       0.80      0.84      0.82      6783\n",
      "\n",
      "    accuracy                           0.73      9559\n",
      "   macro avg       0.67      0.66      0.66      9559\n",
      "weighted avg       0.73      0.73      0.73      9559\n",
      "\n"
     ]
    }
   ],
   "source": [
    "# printing the classification report\n",
    "target_names = ['success','fail']\n",
    "print(classification_report(y_test, y_pred, target_names=target_names))"
   ]
  },
  {
   "cell_type": "code",
   "execution_count": 668,
   "metadata": {},
   "outputs": [
    {
     "data": {
      "text/plain": [
       "(28587, 21)"
      ]
     },
     "execution_count": 668,
     "metadata": {},
     "output_type": "execute_result"
    }
   ],
   "source": [
    "offer_success.shape"
   ]
  },
  {
   "cell_type": "markdown",
   "metadata": {},
   "source": [
    "## ML Algorithm without Inputs of User View time or User View State"
   ]
  },
  {
   "cell_type": "code",
   "execution_count": 669,
   "metadata": {},
   "outputs": [],
   "source": [
    "x= test.loc[:,['difficulty','duration','offer_id','reward','Female','Male','Others','age','income']]\n",
    "y= test.loc[:,['type']]"
   ]
  },
  {
   "cell_type": "code",
   "execution_count": 670,
   "metadata": {},
   "outputs": [],
   "source": [
    "## Applying Encoding to Categorical Variables\n",
    "from sklearn.compose import ColumnTransformer\n",
    "from sklearn.preprocessing import OneHotEncoder\n",
    "ct = ColumnTransformer(transformers=[('encoder', OneHotEncoder(), [2])], remainder='passthrough')\n",
    "\n",
    "x = np.array(ct.fit_transform(x))\n"
   ]
  },
  {
   "cell_type": "code",
   "execution_count": 671,
   "metadata": {},
   "outputs": [
    {
     "name": "stderr",
     "output_type": "stream",
     "text": [
      "/Users/aadhar/opt/anaconda3/lib/python3.7/site-packages/sklearn/preprocessing/_label.py:251: DataConversionWarning: A column-vector y was passed when a 1d array was expected. Please change the shape of y to (n_samples, ), for example using ravel().\n",
      "  y = column_or_1d(y, warn=True)\n"
     ]
    }
   ],
   "source": [
    "## Encoding Dependent Variable\n",
    "from sklearn.preprocessing import LabelEncoder\n",
    "le = LabelEncoder()\n",
    "y = le.fit_transform(y)"
   ]
  },
  {
   "cell_type": "code",
   "execution_count": 672,
   "metadata": {},
   "outputs": [
    {
     "name": "stdout",
     "output_type": "stream",
     "text": [
      "[1 1 1 ... 0 0 0]\n"
     ]
    }
   ],
   "source": [
    "print(y)"
   ]
  },
  {
   "cell_type": "code",
   "execution_count": 673,
   "metadata": {},
   "outputs": [],
   "source": [
    "## Splitting into Training and test Set\n",
    "\n",
    "x_train, x_test, y_train, y_test = train_test_split(x, y, test_size = 0.25, random_state = 42)"
   ]
  },
  {
   "cell_type": "code",
   "execution_count": 674,
   "metadata": {},
   "outputs": [],
   "source": [
    "## Applying Feature Scaling\n",
    "\n",
    "sc = StandardScaler()\n",
    "x_train = sc.fit_transform(x_train)\n",
    "x_test = sc.transform(x_test)"
   ]
  },
  {
   "cell_type": "code",
   "execution_count": 675,
   "metadata": {},
   "outputs": [
    {
     "data": {
      "text/plain": [
       "RandomForestClassifier(bootstrap=True, ccp_alpha=0.0, class_weight=None,\n",
       "                       criterion='entropy', max_depth=None, max_features='auto',\n",
       "                       max_leaf_nodes=None, max_samples=None,\n",
       "                       min_impurity_decrease=0.0, min_impurity_split=None,\n",
       "                       min_samples_leaf=1, min_samples_split=2,\n",
       "                       min_weight_fraction_leaf=0.0, n_estimators=100,\n",
       "                       n_jobs=None, oob_score=False, random_state=0, verbose=0,\n",
       "                       warm_start=False)"
      ]
     },
     "execution_count": 675,
     "metadata": {},
     "output_type": "execute_result"
    }
   ],
   "source": [
    "# Using Random Forest Regressor Model\n",
    "classifier = RandomForestClassifier(n_estimators = 100, criterion = 'entropy', random_state = 0)\n",
    "classifier.fit(x_train, y_train)"
   ]
  },
  {
   "cell_type": "code",
   "execution_count": 676,
   "metadata": {},
   "outputs": [
    {
     "name": "stdout",
     "output_type": "stream",
     "text": [
      "[[ 898 1878]\n",
      " [1544 5239]]\n"
     ]
    },
    {
     "data": {
      "text/plain": [
       "0.6420127628413014"
      ]
     },
     "execution_count": 676,
     "metadata": {},
     "output_type": "execute_result"
    }
   ],
   "source": [
    "#Predicting y of test set\n",
    "y_pred= classifier.predict(x_test)\n",
    "# Forming the Confusion Matrix and Accuracy Score of Test Set\n",
    "cm = confusion_matrix(y_test, y_pred)\n",
    "print(cm)\n",
    "accuracy_score(y_test, y_pred)"
   ]
  },
  {
   "cell_type": "code",
   "execution_count": 677,
   "metadata": {},
   "outputs": [
    {
     "name": "stdout",
     "output_type": "stream",
     "text": [
      "              precision    recall  f1-score   support\n",
      "\n",
      "     success       0.37      0.32      0.34      2776\n",
      "        fail       0.74      0.77      0.75      6783\n",
      "\n",
      "    accuracy                           0.64      9559\n",
      "   macro avg       0.55      0.55      0.55      9559\n",
      "weighted avg       0.63      0.64      0.63      9559\n",
      "\n"
     ]
    }
   ],
   "source": [
    "# printing the classification report\n",
    "target_names = ['success','fail']\n",
    "print(classification_report(y_test, y_pred, target_names=target_names))"
   ]
  },
  {
   "cell_type": "code",
   "execution_count": null,
   "metadata": {},
   "outputs": [],
   "source": []
  }
 ],
 "metadata": {
  "kernelspec": {
   "display_name": "Python 3",
   "language": "python",
   "name": "python3"
  },
  "language_info": {
   "codemirror_mode": {
    "name": "ipython",
    "version": 3
   },
   "file_extension": ".py",
   "mimetype": "text/x-python",
   "name": "python",
   "nbconvert_exporter": "python",
   "pygments_lexer": "ipython3",
   "version": "3.7.6"
  }
 },
 "nbformat": 4,
 "nbformat_minor": 4
}
